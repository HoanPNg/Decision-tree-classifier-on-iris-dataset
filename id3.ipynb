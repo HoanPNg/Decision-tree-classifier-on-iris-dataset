{
 "cells": [
  {
   "cell_type": "code",
   "execution_count": 1,
   "metadata": {},
   "outputs": [
    {
     "data": {
      "text/html": [
       "<div class=\"data-frame\"><p>14 rows × 5 columns</p><table class=\"data-frame\"><thead><tr><th></th><th>Outlook</th><th>Temperature</th><th>Humidity</th><th>Wind</th><th>Play Tennis</th></tr><tr><th></th><th title=\"String15\">String15</th><th title=\"String7\">String7</th><th title=\"String7\">String7</th><th title=\"String7\">String7</th><th title=\"String3\">String3</th></tr></thead><tbody><tr><th>1</th><td>Sunny</td><td>Hot</td><td>High</td><td>Weak</td><td>No</td></tr><tr><th>2</th><td>Sunny</td><td>Hot</td><td>High</td><td>Strong</td><td>No</td></tr><tr><th>3</th><td>Overcast</td><td>Hot</td><td>High</td><td>Weak</td><td>Yes</td></tr><tr><th>4</th><td>Rain</td><td>Mild</td><td>High</td><td>Weak</td><td>Yes</td></tr><tr><th>5</th><td>Rain</td><td>Cool</td><td>Normal</td><td>Weak</td><td>Yes</td></tr><tr><th>6</th><td>Rain</td><td>Cool</td><td>Normal</td><td>Strong</td><td>No</td></tr><tr><th>7</th><td>Overcast</td><td>Cool</td><td>Normal</td><td>Strong</td><td>Yes</td></tr><tr><th>8</th><td>Sunny</td><td>Mild</td><td>High</td><td>Weak</td><td>No</td></tr><tr><th>9</th><td>Sunny</td><td>Cool</td><td>Normal</td><td>Weak</td><td>Yes</td></tr><tr><th>10</th><td>Rain</td><td>Mild</td><td>Normal</td><td>Weak</td><td>Yes</td></tr><tr><th>11</th><td>Sunny</td><td>Mild</td><td>Normal</td><td>Strong</td><td>Yes</td></tr><tr><th>12</th><td>Overcast</td><td>Mild</td><td>High</td><td>Strong</td><td>Yes</td></tr><tr><th>13</th><td>Overcast</td><td>Hot</td><td>Normal</td><td>Weak</td><td>Yes</td></tr><tr><th>14</th><td>Rain</td><td>Mild</td><td>High</td><td>Strong</td><td>No</td></tr></tbody></table></div>"
      ],
      "text/latex": [
       "\\begin{tabular}{r|ccccc}\n",
       "\t& Outlook & Temperature & Humidity & Wind & Play Tennis\\\\\n",
       "\t\\hline\n",
       "\t& String15 & String7 & String7 & String7 & String3\\\\\n",
       "\t\\hline\n",
       "\t1 & Sunny & Hot & High & Weak & No \\\\\n",
       "\t2 & Sunny & Hot & High & Strong & No \\\\\n",
       "\t3 & Overcast & Hot & High & Weak & Yes \\\\\n",
       "\t4 & Rain & Mild & High & Weak & Yes \\\\\n",
       "\t5 & Rain & Cool & Normal & Weak & Yes \\\\\n",
       "\t6 & Rain & Cool & Normal & Strong & No \\\\\n",
       "\t7 & Overcast & Cool & Normal & Strong & Yes \\\\\n",
       "\t8 & Sunny & Mild & High & Weak & No \\\\\n",
       "\t9 & Sunny & Cool & Normal & Weak & Yes \\\\\n",
       "\t10 & Rain & Mild & Normal & Weak & Yes \\\\\n",
       "\t11 & Sunny & Mild & Normal & Strong & Yes \\\\\n",
       "\t12 & Overcast & Mild & High & Strong & Yes \\\\\n",
       "\t13 & Overcast & Hot & Normal & Weak & Yes \\\\\n",
       "\t14 & Rain & Mild & High & Strong & No \\\\\n",
       "\\end{tabular}\n"
      ],
      "text/plain": [
       "\u001b[1m14×5 DataFrame\u001b[0m\n",
       "\u001b[1m Row \u001b[0m│\u001b[1m Outlook  \u001b[0m\u001b[1m Temperature \u001b[0m\u001b[1m Humidity \u001b[0m\u001b[1m Wind    \u001b[0m\u001b[1m Play Tennis \u001b[0m\n",
       "\u001b[1m     \u001b[0m│\u001b[90m String15 \u001b[0m\u001b[90m String7     \u001b[0m\u001b[90m String7  \u001b[0m\u001b[90m String7 \u001b[0m\u001b[90m String3     \u001b[0m\n",
       "─────┼───────────────────────────────────────────────────────\n",
       "   1 │ Sunny     Hot          High      Weak     No\n",
       "   2 │ Sunny     Hot          High      Strong   No\n",
       "   3 │ Overcast  Hot          High      Weak     Yes\n",
       "   4 │ Rain      Mild         High      Weak     Yes\n",
       "   5 │ Rain      Cool         Normal    Weak     Yes\n",
       "   6 │ Rain      Cool         Normal    Strong   No\n",
       "   7 │ Overcast  Cool         Normal    Strong   Yes\n",
       "   8 │ Sunny     Mild         High      Weak     No\n",
       "   9 │ Sunny     Cool         Normal    Weak     Yes\n",
       "  10 │ Rain      Mild         Normal    Weak     Yes\n",
       "  11 │ Sunny     Mild         Normal    Strong   Yes\n",
       "  12 │ Overcast  Mild         High      Strong   Yes\n",
       "  13 │ Overcast  Hot          Normal    Weak     Yes\n",
       "  14 │ Rain      Mild         High      Strong   No"
      ]
     },
     "metadata": {},
     "output_type": "display_data"
    }
   ],
   "source": [
    "using DataFrames\n",
    "using CSV\n",
    "using Random\n",
    "using StatsBase\n",
    "\n",
    "Random.seed!(2472001)\n",
    "\n",
    "# df = DataFrame(CSV.File(\"iris.data\", header=false))\n",
    "# iris_names = [\"sepal_len\", \"sepal_wid\", \"petal_len\", \"petal_wid\", \"class\"]\n",
    "# rename!(df, iris_names)\n",
    "\n",
    "df= DataFrame(CSV.File(\"PlayTennis.csv\"))\n"
   ]
  },
  {
   "cell_type": "code",
   "execution_count": 2,
   "metadata": {},
   "outputs": [
    {
     "data": {
      "text/plain": [
       "train_test_spliter (generic function with 2 methods)"
      ]
     },
     "metadata": {},
     "output_type": "display_data"
    }
   ],
   "source": [
    "function train_test_spliter(data, train_Percent = 2/3)\n",
    "    n = nrow(data)\n",
    "    idx = shuffle(1:n)\n",
    "    train_idx = view(idx, 1:floor(Int, train_Percent *n))\n",
    "    test_idx = view(idx, (floor(Int, train_Percent *n)+1):n)\n",
    "    data[train_idx,:], data[test_idx,:]\n",
    "end\n"
   ]
  },
  {
   "cell_type": "code",
   "execution_count": 3,
   "metadata": {},
   "outputs": [
    {
     "data": {
      "text/plain": [
       "cal_total_entropy (generic function with 1 method)"
      ]
     },
     "metadata": {},
     "output_type": "display_data"
    }
   ],
   "source": [
    "function cal_total_entropy(data)\n",
    "    class_list = unique(data[:,end])\n",
    "    n = size(data,1)\n",
    "    total_entropy = 0\n",
    "    for class in class_list\n",
    "        p = count(==(class),data[:,end]) / n\n",
    "        total_entropy = total_entropy + (-p*log2(p))\n",
    "    end\n",
    "    return total_entropy\n",
    "end"
   ]
  },
  {
   "cell_type": "code",
   "execution_count": 4,
   "metadata": {},
   "outputs": [
    {
     "data": {
      "text/plain": [
       "cal_entropy (generic function with 1 method)"
      ]
     },
     "metadata": {},
     "output_type": "display_data"
    }
   ],
   "source": [
    "#TODO: reconfig for iris dataset\n",
    "function cal_entropy(feature_data)\n",
    "    #=\n",
    "    feature_data has 2 col:\n",
    "        1- col values that sastify certain condition\n",
    "        2- result col (last col)\n",
    "    =#\n",
    "    n = size(feature_data,1)\n",
    "    entropy = 0\n",
    "\n",
    "    unq = unique(feature_data[:,end])\n",
    "    for class in unq\n",
    "        entropy_class = 0\n",
    "        p = count(==(class), feature_data[:,end]) / n\n",
    "        entropy_class = -p*log2(p)\n",
    "        entropy += entropy_class\n",
    "    end\n",
    "    return entropy\n",
    "end\n"
   ]
  },
  {
   "cell_type": "code",
   "execution_count": 5,
   "metadata": {},
   "outputs": [
    {
     "data": {
      "text/plain": [
       "cal_infomation_gain (generic function with 1 method)"
      ]
     },
     "metadata": {},
     "output_type": "display_data"
    }
   ],
   "source": [
    "function cal_infomation_gain(feature_name, data)\n",
    "    #= \n",
    "    feature_name = name of feature\n",
    "    data = whole dataframe\n",
    "    =#\n",
    "    feature_values = unique(data[:,feature_name])\n",
    "    n = size(data,1)\n",
    "    feature_info = 0.0\n",
    "\n",
    "    for value in feature_values \n",
    "        feature_data = filter(n->n[feature_name] == value,data)\n",
    "        feature_count = size(feature_data,1)\n",
    "        feature_prob = feature_count / n\n",
    "        feature_value_entropy = cal_entropy(feature_data)\n",
    "        feature_info += feature_prob * feature_value_entropy\n",
    "    end\n",
    "    \n",
    "    # return cal_entropy(data[:,[feature_name, names(data)[end]]]) - feature_info\n",
    "    return cal_entropy(data) - feature_info\n",
    "    \n",
    "end\n"
   ]
  },
  {
   "cell_type": "code",
   "execution_count": 6,
   "metadata": {},
   "outputs": [
    {
     "data": {
      "text/plain": [
       "find_most_infomative_feature (generic function with 1 method)"
      ]
     },
     "metadata": {},
     "output_type": "display_data"
    }
   ],
   "source": [
    "#TODO: modify for return feature \n",
    "function find_most_infomative_feature(data)\n",
    "\n",
    "    feature_list = names(data)[1:end-1]\n",
    "\n",
    "    max_inf_gain = -1\n",
    "    max_feature = Nothing\n",
    "    for feature in feature_list\n",
    "        feature_info_gain = cal_infomation_gain(feature,data)\n",
    "        if max_inf_gain < feature_info_gain\n",
    "            max_inf_gain = feature_info_gain\n",
    "            max_feature = feature\n",
    "        end\n",
    "    end\n",
    "\n",
    "    return max_feature\n",
    "end\n"
   ]
  },
  {
   "cell_type": "code",
   "execution_count": 7,
   "metadata": {},
   "outputs": [
    {
     "data": {
      "text/plain": [
       "count_map (generic function with 1 method)"
      ]
     },
     "metadata": {},
     "output_type": "display_data"
    }
   ],
   "source": [
    "#TEST\n",
    "function count_map(data, feature_name)\n",
    "    unq = unique(data[:,feature_name])\n",
    "    num_element = Vector{Int64}() \n",
    "\n",
    "    for value in unq\n",
    "        push!(num_element, count(==(value),data[:,feature_name]))\n",
    "    end\n",
    "\n",
    "    return Dict((unq[i] => num_element[i] for i in range(1, length(unq))))\n",
    "    #return DataFrame(Values = unq, count = num_element)\n",
    "end\n"
   ]
  },
  {
   "cell_type": "code",
   "execution_count": 8,
   "metadata": {},
   "outputs": [
    {
     "data": {
      "text/plain": [
       "generate_sub_tree (generic function with 1 method)"
      ]
     },
     "metadata": {},
     "output_type": "display_data"
    }
   ],
   "source": [
    "function generate_sub_tree(feature_name, data)\n",
    "    feature_value_count_dic = countmap(data[:,feature_name])\n",
    "    tree =Dict{Any,Any}()\n",
    "    for (feature_value, count) in feature_value_count_dic\n",
    "        feature_value_data = filter(n->n[feature_name] == feature_value, data)\n",
    "\n",
    "        assigned_to_node = false\n",
    "\n",
    "        for c in unique(data[:,end])\n",
    "            class_count = size(filter(n->n[end] == c, feature_value_data),1)\n",
    "            if class_count == count\n",
    "                push!(tree, feature_value => c)\n",
    "                data = filter(n->n[feature_name] != feature_value,data)\n",
    "                assigned_to_node = true\n",
    "            end\n",
    "        end\n",
    "\n",
    "        if assigned_to_node == false\n",
    "            push!(tree, feature_value => \"?\")\n",
    "        end\n",
    "\n",
    "             \n",
    "    \n",
    "    end\n",
    "    return tree, data\n",
    "    \n",
    "    end"
   ]
  },
  {
   "cell_type": "code",
   "execution_count": 9,
   "metadata": {},
   "outputs": [
    {
     "data": {
      "text/plain": [
       "make_tree (generic function with 1 method)"
      ]
     },
     "metadata": {},
     "output_type": "display_data"
    }
   ],
   "source": [
    "function make_tree(root, prev_feature_value, data)\n",
    "    if size(data,1) != 0\n",
    "        max_info_feature = find_most_infomative_feature(data)\n",
    "        tree ,data = generate_sub_tree(max_info_feature,data)\n",
    "        next_root = nothing\n",
    "\n",
    "        if prev_feature_value != nothing\n",
    "            root[prev_feature_value] = Dict{Any,Any}()\n",
    "            #root[prev_feature_value][max_info_feature] = tree\n",
    "            push!(root,prev_feature_value=>Dict{Any,Any}(max_info_feature => tree))\n",
    "            next_root = root[prev_feature_value][max_info_feature]\n",
    "\n",
    "        else\n",
    "            root[max_info_feature] = tree\n",
    "            next_root = root[max_info_feature]\n",
    "        end\n",
    "\n",
    "        for (node,branch) in next_root\n",
    "            if branch == \"?\"\n",
    "                feature_value_data = filter(n->n[max_info_feature] == node, data)\n",
    "                make_tree(next_root, node, feature_value_data)\n",
    "            end\n",
    "        end\n",
    "    end\n",
    "end\n",
    "\n",
    "\n"
   ]
  },
  {
   "cell_type": "code",
   "execution_count": 10,
   "metadata": {},
   "outputs": [
    {
     "data": {
      "text/plain": [
       "id3 (generic function with 1 method)"
      ]
     },
     "metadata": {},
     "output_type": "display_data"
    }
   ],
   "source": [
    "function id3(data)\n",
    "    train_data = data\n",
    "    tree = Dict{Any,Any}()\n",
    "    make_tree(tree, nothing, train_data)\n",
    "\n",
    "    return tree\n",
    "    \n",
    "end"
   ]
  },
  {
   "cell_type": "code",
   "execution_count": 11,
   "metadata": {},
   "outputs": [
    {
     "name": "stdout",
     "output_type": "stream",
     "text": [
      "No\n",
      "++\n",
      "No\n",
      "==================\n",
      "No\n",
      "++\n",
      "Yes\n",
      "==================\n",
      "Yes\n",
      "++\n",
      "Yes\n",
      "==================\n",
      "No\n",
      "++\n",
      "Yes\n",
      "==================\n",
      "Yes\n",
      "++\n",
      "Yes\n",
      "==================\n"
     ]
    }
   ],
   "source": [
    "function predict(tree, instance)\n",
    "    if typeof(tree) != Dict{Any,Any}\n",
    "        return tree\n",
    "    else\n",
    "        root_node = pop!(string.(keys(tree)))\n",
    "        feature_value = instance[root_node]\n",
    "\n",
    "        if feature_value in string.(keys(tree[root_node]))\n",
    "            return predict(tree[root_node][feature_value], instance)\n",
    "        else\n",
    "            return nothing\n",
    "        end\n",
    "    end   \n",
    "end\n",
    "\n",
    "train, test =train_test_spliter(df)\n",
    "tree =id3(train)\n",
    "for i in eachrow(test)\n",
    "    println(predict(tree,i))\n",
    "    println(\"++\")\n",
    "    println(i[end])\n",
    "    println(\"==================\")\n",
    "end"
   ]
  },
  {
   "cell_type": "code",
   "execution_count": 39,
   "metadata": {},
   "outputs": [
    {
     "data": {
      "text/plain": [
       "\" > 0.3\""
      ]
     },
     "metadata": {},
     "output_type": "display_data"
    }
   ],
   "source": [
    "a = \" > 0.3\"\n",
    "a = lstrip(a)\n",
    "# a = split(a,\" \")\n",
    "# print(a)\n",
    "\n",
    "b = string(split(a)[1])\n",
    "c = parse(Float64,string(split(a)[2]))\n",
    "# println(c)\n",
    "# println(typeof(c))\n",
    "# println(b)\n",
    "# println(typeof(b))\n",
    "stringf = string(\" \",b,\" \",string(c))"
   ]
  }
 ],
 "metadata": {
  "kernelspec": {
   "display_name": "Julia 1.7.1",
   "language": "julia",
   "name": "julia-1.7"
  },
  "language_info": {
   "file_extension": ".jl",
   "mimetype": "application/julia",
   "name": "julia",
   "version": "1.7.1"
  },
  "orig_nbformat": 4
 },
 "nbformat": 4,
 "nbformat_minor": 2
}
