{
 "cells": [
  {
   "cell_type": "code",
   "execution_count": 608,
   "metadata": {},
   "outputs": [
    {
     "data": {
      "text/html": [
       "<div class=\"data-frame\"><p>150 rows × 5 columns</p><table class=\"data-frame\"><thead><tr><th></th><th>sepal_len</th><th>sepal_wid</th><th>petal_len</th><th>petal_wid</th><th>class</th></tr><tr><th></th><th title=\"Float64\">Float64</th><th title=\"Float64\">Float64</th><th title=\"Float64\">Float64</th><th title=\"Float64\">Float64</th><th title=\"String15\">String15</th></tr></thead><tbody><tr><th>1</th><td>5.1</td><td>3.5</td><td>1.4</td><td>0.2</td><td>Iris-setosa</td></tr><tr><th>2</th><td>4.9</td><td>3.0</td><td>1.4</td><td>0.2</td><td>Iris-setosa</td></tr><tr><th>3</th><td>4.7</td><td>3.2</td><td>1.3</td><td>0.2</td><td>Iris-setosa</td></tr><tr><th>4</th><td>4.6</td><td>3.1</td><td>1.5</td><td>0.2</td><td>Iris-setosa</td></tr><tr><th>5</th><td>5.0</td><td>3.6</td><td>1.4</td><td>0.2</td><td>Iris-setosa</td></tr><tr><th>6</th><td>5.4</td><td>3.9</td><td>1.7</td><td>0.4</td><td>Iris-setosa</td></tr><tr><th>7</th><td>4.6</td><td>3.4</td><td>1.4</td><td>0.3</td><td>Iris-setosa</td></tr><tr><th>8</th><td>5.0</td><td>3.4</td><td>1.5</td><td>0.2</td><td>Iris-setosa</td></tr><tr><th>9</th><td>4.4</td><td>2.9</td><td>1.4</td><td>0.2</td><td>Iris-setosa</td></tr><tr><th>10</th><td>4.9</td><td>3.1</td><td>1.5</td><td>0.1</td><td>Iris-setosa</td></tr><tr><th>11</th><td>5.4</td><td>3.7</td><td>1.5</td><td>0.2</td><td>Iris-setosa</td></tr><tr><th>12</th><td>4.8</td><td>3.4</td><td>1.6</td><td>0.2</td><td>Iris-setosa</td></tr><tr><th>13</th><td>4.8</td><td>3.0</td><td>1.4</td><td>0.1</td><td>Iris-setosa</td></tr><tr><th>14</th><td>4.3</td><td>3.0</td><td>1.1</td><td>0.1</td><td>Iris-setosa</td></tr><tr><th>15</th><td>5.8</td><td>4.0</td><td>1.2</td><td>0.2</td><td>Iris-setosa</td></tr><tr><th>16</th><td>5.7</td><td>4.4</td><td>1.5</td><td>0.4</td><td>Iris-setosa</td></tr><tr><th>17</th><td>5.4</td><td>3.9</td><td>1.3</td><td>0.4</td><td>Iris-setosa</td></tr><tr><th>18</th><td>5.1</td><td>3.5</td><td>1.4</td><td>0.3</td><td>Iris-setosa</td></tr><tr><th>19</th><td>5.7</td><td>3.8</td><td>1.7</td><td>0.3</td><td>Iris-setosa</td></tr><tr><th>20</th><td>5.1</td><td>3.8</td><td>1.5</td><td>0.3</td><td>Iris-setosa</td></tr><tr><th>21</th><td>5.4</td><td>3.4</td><td>1.7</td><td>0.2</td><td>Iris-setosa</td></tr><tr><th>22</th><td>5.1</td><td>3.7</td><td>1.5</td><td>0.4</td><td>Iris-setosa</td></tr><tr><th>23</th><td>4.6</td><td>3.6</td><td>1.0</td><td>0.2</td><td>Iris-setosa</td></tr><tr><th>24</th><td>5.1</td><td>3.3</td><td>1.7</td><td>0.5</td><td>Iris-setosa</td></tr><tr><th>&vellip;</th><td>&vellip;</td><td>&vellip;</td><td>&vellip;</td><td>&vellip;</td><td>&vellip;</td></tr></tbody></table></div>"
      ],
      "text/latex": [
       "\\begin{tabular}{r|ccccc}\n",
       "\t& sepal\\_len & sepal\\_wid & petal\\_len & petal\\_wid & class\\\\\n",
       "\t\\hline\n",
       "\t& Float64 & Float64 & Float64 & Float64 & String15\\\\\n",
       "\t\\hline\n",
       "\t1 & 5.1 & 3.5 & 1.4 & 0.2 & Iris-setosa \\\\\n",
       "\t2 & 4.9 & 3.0 & 1.4 & 0.2 & Iris-setosa \\\\\n",
       "\t3 & 4.7 & 3.2 & 1.3 & 0.2 & Iris-setosa \\\\\n",
       "\t4 & 4.6 & 3.1 & 1.5 & 0.2 & Iris-setosa \\\\\n",
       "\t5 & 5.0 & 3.6 & 1.4 & 0.2 & Iris-setosa \\\\\n",
       "\t6 & 5.4 & 3.9 & 1.7 & 0.4 & Iris-setosa \\\\\n",
       "\t7 & 4.6 & 3.4 & 1.4 & 0.3 & Iris-setosa \\\\\n",
       "\t8 & 5.0 & 3.4 & 1.5 & 0.2 & Iris-setosa \\\\\n",
       "\t9 & 4.4 & 2.9 & 1.4 & 0.2 & Iris-setosa \\\\\n",
       "\t10 & 4.9 & 3.1 & 1.5 & 0.1 & Iris-setosa \\\\\n",
       "\t11 & 5.4 & 3.7 & 1.5 & 0.2 & Iris-setosa \\\\\n",
       "\t12 & 4.8 & 3.4 & 1.6 & 0.2 & Iris-setosa \\\\\n",
       "\t13 & 4.8 & 3.0 & 1.4 & 0.1 & Iris-setosa \\\\\n",
       "\t14 & 4.3 & 3.0 & 1.1 & 0.1 & Iris-setosa \\\\\n",
       "\t15 & 5.8 & 4.0 & 1.2 & 0.2 & Iris-setosa \\\\\n",
       "\t16 & 5.7 & 4.4 & 1.5 & 0.4 & Iris-setosa \\\\\n",
       "\t17 & 5.4 & 3.9 & 1.3 & 0.4 & Iris-setosa \\\\\n",
       "\t18 & 5.1 & 3.5 & 1.4 & 0.3 & Iris-setosa \\\\\n",
       "\t19 & 5.7 & 3.8 & 1.7 & 0.3 & Iris-setosa \\\\\n",
       "\t20 & 5.1 & 3.8 & 1.5 & 0.3 & Iris-setosa \\\\\n",
       "\t21 & 5.4 & 3.4 & 1.7 & 0.2 & Iris-setosa \\\\\n",
       "\t22 & 5.1 & 3.7 & 1.5 & 0.4 & Iris-setosa \\\\\n",
       "\t23 & 4.6 & 3.6 & 1.0 & 0.2 & Iris-setosa \\\\\n",
       "\t24 & 5.1 & 3.3 & 1.7 & 0.5 & Iris-setosa \\\\\n",
       "\t$\\dots$ & $\\dots$ & $\\dots$ & $\\dots$ & $\\dots$ & $\\dots$ \\\\\n",
       "\\end{tabular}\n"
      ],
      "text/plain": [
       "\u001b[1m150×5 DataFrame\u001b[0m\n",
       "\u001b[1m Row \u001b[0m│\u001b[1m sepal_len \u001b[0m\u001b[1m sepal_wid \u001b[0m\u001b[1m petal_len \u001b[0m\u001b[1m petal_wid \u001b[0m\u001b[1m class          \u001b[0m\n",
       "\u001b[1m     \u001b[0m│\u001b[90m Float64   \u001b[0m\u001b[90m Float64   \u001b[0m\u001b[90m Float64   \u001b[0m\u001b[90m Float64   \u001b[0m\u001b[90m String15       \u001b[0m\n",
       "─────┼────────────────────────────────────────────────────────────\n",
       "   1 │       5.1        3.5        1.4        0.2  Iris-setosa\n",
       "   2 │       4.9        3.0        1.4        0.2  Iris-setosa\n",
       "   3 │       4.7        3.2        1.3        0.2  Iris-setosa\n",
       "   4 │       4.6        3.1        1.5        0.2  Iris-setosa\n",
       "   5 │       5.0        3.6        1.4        0.2  Iris-setosa\n",
       "   6 │       5.4        3.9        1.7        0.4  Iris-setosa\n",
       "   7 │       4.6        3.4        1.4        0.3  Iris-setosa\n",
       "   8 │       5.0        3.4        1.5        0.2  Iris-setosa\n",
       "  ⋮  │     ⋮          ⋮          ⋮          ⋮            ⋮\n",
       " 144 │       6.8        3.2        5.9        2.3  Iris-virginica\n",
       " 145 │       6.7        3.3        5.7        2.5  Iris-virginica\n",
       " 146 │       6.7        3.0        5.2        2.3  Iris-virginica\n",
       " 147 │       6.3        2.5        5.0        1.9  Iris-virginica\n",
       " 148 │       6.5        3.0        5.2        2.0  Iris-virginica\n",
       " 149 │       6.2        3.4        5.4        2.3  Iris-virginica\n",
       " 150 │       5.9        3.0        5.1        1.8  Iris-virginica\n",
       "\u001b[36m                                                  135 rows omitted\u001b[0m"
      ]
     },
     "metadata": {},
     "output_type": "display_data"
    }
   ],
   "source": [
    "using DataFrames\n",
    "using CSV\n",
    "using Random\n",
    "\n",
    "df = DataFrame(CSV.File(\"iris.data\", header=false))\n",
    "iris_names = [\"sepal_len\", \"sepal_wid\", \"petal_len\", \"petal_wid\", \"class\"]\n",
    "rename!(df, iris_names)"
   ]
  },
  {
   "cell_type": "code",
   "execution_count": 609,
   "metadata": {},
   "outputs": [
    {
     "data": {
      "text/plain": [
       "train_test_spliter (generic function with 2 methods)"
      ]
     },
     "metadata": {},
     "output_type": "display_data"
    }
   ],
   "source": [
    "function train_test_spliter(data, train_Percent = 2/3)\n",
    "    n = nrow(data)\n",
    "    idx = shuffle(1:n)\n",
    "    train_idx = view(idx, 1:floor(Int, train_Percent *n))\n",
    "    test_idx = view(idx, (floor(Int, train_Percent *n)+1):n)\n",
    "    data[train_idx,:], data[test_idx,:]\n",
    "end\n"
   ]
  },
  {
   "cell_type": "code",
   "execution_count": 610,
   "metadata": {},
   "outputs": [
    {
     "data": {
      "text/plain": [
       "cal_total_entropy (generic function with 1 method)"
      ]
     },
     "metadata": {},
     "output_type": "display_data"
    }
   ],
   "source": [
    "function cal_total_entropy(data)\n",
    "    class_list = unique(data[:,end])\n",
    "    n = size(data,1)\n",
    "    total_entropy = 0\n",
    "    for class in class_list\n",
    "        p = count(==(class),data[:,end]) / n\n",
    "        total_entropy = total_entropy + (-p*log2(p))\n",
    "    end\n",
    "    return total_entropy\n",
    "end"
   ]
  },
  {
   "cell_type": "code",
   "execution_count": 611,
   "metadata": {},
   "outputs": [
    {
     "data": {
      "text/plain": [
       "cal_entropy (generic function with 1 method)"
      ]
     },
     "metadata": {},
     "output_type": "display_data"
    }
   ],
   "source": [
    "function cal_entropy(feature_data)\n",
    "    #=\n",
    "    feature_data has 2 col:\n",
    "        1- col values that sastify certain condition\n",
    "        2- result col (last col)\n",
    "    =#\n",
    "    n = size(feature_data,1)\n",
    "    entropy = 0\n",
    "\n",
    "    unq = unique(feature_data[:,end])\n",
    "    for class in unq\n",
    "        entropy_class = 0\n",
    "        p = count(==(class), feature_data[:,end]) / n\n",
    "        entropy_class = -p*log2(p)\n",
    "        entropy += entropy_class\n",
    "    end\n",
    "    return entropy\n",
    "end\n"
   ]
  },
  {
   "cell_type": "code",
   "execution_count": 612,
   "metadata": {},
   "outputs": [
    {
     "data": {
      "text/plain": [
       "cal_feature_info (generic function with 1 method)"
      ]
     },
     "metadata": {},
     "output_type": "display_data"
    }
   ],
   "source": [
    "function cal_feature_info(data , n)\n",
    "    #=\n",
    "    data: datafame (upper/lower)\n",
    "    n: #row before split\n",
    "\n",
    "    return pob * entropy\n",
    "    =#\n",
    "    counter = size(data,1)\n",
    "    prob = counter / n\n",
    "    entropy = cal_entropy(data)    \n",
    "\n",
    "    return prob*entropy\n",
    "end"
   ]
  },
  {
   "cell_type": "code",
   "execution_count": 613,
   "metadata": {},
   "outputs": [
    {
     "data": {
      "text/plain": [
       "cal_infomation_gain (generic function with 1 method)"
      ]
     },
     "metadata": {},
     "output_type": "display_data"
    }
   ],
   "source": [
    "function cal_infomation_gain(feature_name, data)\n",
    "    #= \n",
    "    feature_name = name of feature\n",
    "    data = whole dataframe\n",
    "    =#\n",
    "    feature_values = unique(data[:,feature_name])\n",
    "    n = size(data,1)\n",
    "    min_feature_info = 9999.0\n",
    "    cutoff = 0.0\n",
    "    for value in feature_values \n",
    "        feature_data_upper = filter(n->n[feature_name] >= value,data)\n",
    "        feature_data_lower = filter(n->n[feature_name] < value,data)\n",
    "\n",
    "        feature_info_upper = cal_feature_info(feature_data_upper,n)\n",
    "        feature_info_lower = cal_feature_info(feature_data_lower,n)\n",
    "        feature_info = feature_info_upper + feature_info_lower\n",
    "        if feature_info < min_feature_info\n",
    "            cutoff = value\n",
    "            min_feature_info = feature_info\n",
    "        end\n",
    "    end\n",
    "    \n",
    "    return cal_entropy(data) - min_feature_info, cutoff\n",
    "    \n",
    "end\n"
   ]
  },
  {
   "cell_type": "code",
   "execution_count": 614,
   "metadata": {},
   "outputs": [
    {
     "data": {
      "text/plain": [
       "find_most_infomative_feature (generic function with 1 method)"
      ]
     },
     "metadata": {},
     "output_type": "display_data"
    }
   ],
   "source": [
    "\n",
    "function find_most_infomative_feature(data)\n",
    "\n",
    "    feature_list = names(data)[1:end-1]\n",
    "\n",
    "    max_inf_gain = -1\n",
    "    max_feature = Nothing\n",
    "    feature_cutoff = 0.0\n",
    "    for feature in feature_list\n",
    "        feature_info_gain, cutoff = cal_infomation_gain(feature,data)\n",
    "        if max_inf_gain < feature_info_gain\n",
    "            max_inf_gain = feature_info_gain\n",
    "            max_feature = feature\n",
    "            feature_cutoff = cutoff\n",
    "        end\n",
    "    end\n",
    "\n",
    "    return max_feature, feature_cutoff\n",
    "end\n"
   ]
  },
  {
   "cell_type": "code",
   "execution_count": 615,
   "metadata": {},
   "outputs": [
    {
     "data": {
      "text/plain": [
       "generate_sub_tree (generic function with 1 method)"
      ]
     },
     "metadata": {},
     "output_type": "display_data"
    }
   ],
   "source": [
    "function generate_sub_tree(feature_name,cutoff, data)\n",
    "    #=\n",
    "    feature_name =  name of the feature that we want to add to tree and shrink dataset\n",
    "    cutoff: cutoff value of feature\n",
    "    data: DataFrame\n",
    "    =#\n",
    "    #feature_value_count_dic = countmap(data[:,feature_name])\n",
    "    tree =Dict{Any,Any}()\n",
    "    upper = filter(n->n[feature_name] >= cutoff,data)\n",
    "    lower = filter(n->n[feature_name] <  cutoff,data)\n",
    "\n",
    "    #upper\n",
    "    if size(upper,1) != 0\n",
    "        count = size(upper,1)\n",
    "        assigned_to_node = false\n",
    "        for c in unique(data[:,end])\n",
    "            class_count = size(filter(n->n[end] == c, upper),1)\n",
    "            if class_count == count\n",
    "                push!(tree, (\" >= \" * string(cutoff)) => c)\n",
    "                data = filter(n->n[feature_name] < cutoff,data)\n",
    "                assigned_to_node = true\n",
    "            end\n",
    "        end\n",
    "        if assigned_to_node == false\n",
    "            push!(tree, (\" >= \"*string(cutoff)) => \"?\")\n",
    "        end\n",
    "    end\n",
    "    #lower\n",
    "    if size(lower,1) != 0\n",
    "\n",
    "        count = size(lower,1)\n",
    "        assigned_to_node = false\n",
    "        for c in unique(data[:,end])\n",
    "            class_count = size(filter(n->n[end] == c, lower),1)\n",
    "            if class_count == count\n",
    "                push!(tree, (\" < \" * string(cutoff)) => c)\n",
    "                data = filter(n->n[feature_name] >= cutoff,data)\n",
    "                assigned_to_node = true\n",
    "            end\n",
    "        end\n",
    "        if assigned_to_node == false\n",
    "            push!(tree, (\" < \"*string(cutoff)) => \"?\")\n",
    "        end\n",
    "    end\n",
    "    return tree, data\n",
    "    \n",
    "end"
   ]
  },
  {
   "cell_type": "code",
   "execution_count": 616,
   "metadata": {},
   "outputs": [
    {
     "data": {
      "text/plain": [
       "make_tree (generic function with 1 method)"
      ]
     },
     "metadata": {},
     "output_type": "display_data"
    }
   ],
   "source": [
    "function make_tree(root, prev_feature_value, data)\n",
    "    if size(data,1) != 0\n",
    "        max_info_feature,cutoff = find_most_infomative_feature(data)\n",
    "        tree ,data = generate_sub_tree(max_info_feature, cutoff, data)\n",
    "        next_root = nothing\n",
    "\n",
    "        if prev_feature_value != nothing\n",
    "            root[prev_feature_value] = Dict{Any,Any}()\n",
    "            #root[prev_feature_value][max_info_feature] = tree\n",
    "            push!(root,prev_feature_value=>Dict{Any,Any}(max_info_feature => tree))\n",
    "            next_root = root[prev_feature_value][max_info_feature]\n",
    "\n",
    "        else\n",
    "            root[max_info_feature] = tree\n",
    "            next_root = root[max_info_feature]\n",
    "        end\n",
    "\n",
    "        for (node,branch) in next_root\n",
    "            #todo\n",
    "            temp_node = node\n",
    "            node = lstrip(node)\n",
    "            node = split(node,\" \")\n",
    "\n",
    "            compare_symbol = string(node[1])\n",
    "            value = parse(Float64,string(node[2]))\n",
    "            if branch == \"?\"\n",
    "                if compare_symbol == \">=\"\n",
    "                feature_value_data = filter(n->n[max_info_feature] >= value, data)\n",
    "                else \n",
    "                feature_value_data = filter(n->n[max_info_feature] < value, data)\n",
    "                end\n",
    "                make_tree(next_root, temp_node, feature_value_data)\n",
    "            end\n",
    "        end\n",
    "    end\n",
    "end\n",
    "\n",
    "\n"
   ]
  },
  {
   "cell_type": "code",
   "execution_count": 617,
   "metadata": {},
   "outputs": [
    {
     "data": {
      "text/plain": [
       "id3 (generic function with 1 method)"
      ]
     },
     "metadata": {},
     "output_type": "display_data"
    }
   ],
   "source": [
    "function id3(data)\n",
    "    train_data = data\n",
    "    tree = Dict{Any,Any}()\n",
    "    make_tree(tree, nothing, train_data)\n",
    "\n",
    "    return tree\n",
    "    \n",
    "end"
   ]
  },
  {
   "cell_type": "code",
   "execution_count": 618,
   "metadata": {},
   "outputs": [
    {
     "data": {
      "text/plain": [
       "predict (generic function with 1 method)"
      ]
     },
     "metadata": {},
     "output_type": "display_data"
    }
   ],
   "source": [
    "function predict(tree, instance)\n",
    "    if typeof(tree) != Dict{Any,Any}\n",
    "        return tree\n",
    "    else\n",
    "        root_node = pop!(string.(keys(tree)))\n",
    "        feature_value = instance[root_node]\n",
    "\n",
    "\n",
    "        value = string.(keys(tree[root_node]))[1]\n",
    "        value = parse(Float64,split(value,\" \")[end])\n",
    "\n",
    "        if feature_value >= value\n",
    "            feature_value_string = string(\" >= \",string(value))\n",
    "            return predict(tree[root_node][feature_value_string], instance)\n",
    "        else\n",
    "            feature_value_string = string(\" < \",string(value))\n",
    "            return predict(tree[root_node][feature_value_string], instance)\n",
    "        end\n",
    "    \n",
    "    end   \n",
    "end"
   ]
  },
  {
   "cell_type": "code",
   "execution_count": 619,
   "metadata": {},
   "outputs": [
    {
     "data": {
      "text/plain": [
       "cal_accuracy (generic function with 1 method)"
      ]
     },
     "metadata": {},
     "output_type": "display_data"
    }
   ],
   "source": [
    "function cal_accuracy(test_data, tree)\n",
    "    correct = 0\n",
    "    n = nrow(test_data)\n",
    "    for i in eachrow(test_data)\n",
    "        result = predict(tree,i)\n",
    "        if result == i[end]\n",
    "            correct += 1\n",
    "        end\n",
    "    end\n",
    "\n",
    "    return correct / n * 100\n",
    "    \n",
    "end"
   ]
  },
  {
   "cell_type": "code",
   "execution_count": 620,
   "metadata": {},
   "outputs": [
    {
     "name": "stdout",
     "output_type": "stream",
     "text": [
      "1 96.0%\n",
      "2 98.0%\n",
      "3 96.0%\n",
      "4 90.0%\n",
      "5 96.0%\n",
      "6 98.0%\n",
      "7 90.0%\n",
      "8 94.0%\n",
      "9 92.0%\n",
      "10 92.0%\n",
      "11 96.0%\n",
      "12 92.0%\n",
      "13 94.0%\n",
      "14 92.0%\n",
      "15 94.0%\n",
      "16 94.0%\n",
      "17 94.0%\n",
      "18 98.0%\n",
      "19 94.0%\n",
      "20 94.0%\n",
      "21 100.0%\n",
      "22 96.0%\n",
      "23 94.0%\n",
      "24 96.0%\n",
      "25 94.0%\n",
      "26 94.0%\n",
      "27 94.0%\n",
      "28 94.0%\n",
      "29 90.0%\n",
      "30 96.0%\n",
      "31 90.0%\n",
      "32 94.0%\n",
      "33 92.0%\n",
      "34 86.0%\n",
      "35 94.0%\n",
      "36 88.0%\n",
      "37 92.0%\n",
      "38 94.0%\n",
      "39 92.0%\n",
      "40 92.0%\n",
      "41 94.0%\n",
      "42 90.0%\n",
      "43 94.0%\n",
      "44 96.0%\n",
      "45 94.0%\n",
      "46 98.0%\n",
      "47 88.0%\n",
      "48 90.0%\n",
      "49 94.0%\n",
      "50 92.0%\n"
     ]
    }
   ],
   "source": [
    "for i in 1:50\n",
    "    print(i,\" \")\n",
    "    Random.seed!(i)\n",
    "train, test =train_test_spliter(df)\n",
    "tree = id3(train)\n",
    "\n",
    "println(string(cal_accuracy(test,tree)),\"%\")\n",
    "end"
   ]
  }
 ],
 "metadata": {
  "kernelspec": {
   "display_name": "Julia 1.7.1",
   "language": "julia",
   "name": "julia-1.7"
  },
  "language_info": {
   "file_extension": ".jl",
   "mimetype": "application/julia",
   "name": "julia",
   "version": "1.7.1"
  },
  "orig_nbformat": 4
 },
 "nbformat": 4,
 "nbformat_minor": 2
}
